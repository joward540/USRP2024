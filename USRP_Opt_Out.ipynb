{
 "cells": [
  {
   "cell_type": "code",
   "execution_count": 1,
   "id": "be7e4793-3a96-4f2e-b865-a24eb2a1b79d",
   "metadata": {},
   "outputs": [],
   "source": [
    "import numpy as np\n",
    "import matplotlib.pyplot as plt\n",
    "import pandas as pd\n",
    "import matplotlib.dates as mdates\n",
    "from pandas import Timedelta\n",
    "import matplotlib.patches as patches\n",
    "\n",
    "# File paths\n",
    "file_path = [\"data.txt\"]\n",
    "\n",
    "\n",
    "# Create a list to store the dataframes\n",
    "dataframes = []\n",
    "\n",
    "\n",
    "# Iterate over the files\n",
    "for line in file_path:\n",
    "    # Import the file skipping the header and footer lines\n",
    "    df = pd.read_csv(line, engine='python', delim_whitespace=True)\n",
    "    dataframes.append(df)\n"
   ]
  },
  {
   "cell_type": "code",
   "execution_count": 2,
   "id": "7d00fdbb-7d39-4c38-9d3a-35d235a88baf",
   "metadata": {},
   "outputs": [],
   "source": [
    "data1 = np.array(dataframes[0])"
   ]
  },
  {
   "cell_type": "code",
   "execution_count": 3,
   "id": "f7ab9546-13ac-4d40-a0af-e070d5c4f74e",
   "metadata": {},
   "outputs": [
    {
     "data": {
      "image/png": "[encoded data removed]",
      "text/plain": [
       "<Figure size 432x288 with 1 Axes>"
      ]
     },
     "metadata": {
      "needs_background": "light"
     },
     "output_type": "display_data"
    }
   ],
   "source": [
    "plt.scatter(data1[:,0], data1[:,1])\n",
    "plt.errorbar(data1[:,0], data1[:,1], yerr=data1[:,2], fmt='o')\n",
    "plt.show()"
   ]
  },
  {
   "cell_type": "code",
   "execution_count": 27,
   "id": "489f90c3-7928-42d9-a47d-cd13ef52016c",
   "metadata": {},
   "outputs": [
    {
     "name": "stdout",
     "output_type": "stream",
     "text": [
      "A: 0.06881061961384032, B: 1.6930701599532776, C: -0.42081605412547907\n",
      "\n",
      "\n",
      "\n"
     ]
    },
    {
     "data": {
      "image/png": "[encoded data removed]",
      "text/plain": [
       "<Figure size 432x288 with 1 Axes>"
      ]
     },
     "metadata": {
      "needs_background": "light"
     },
     "output_type": "display_data"
    }
   ],
   "source": [
    "from scipy.optimize import minimize\n",
    "\n",
    "# Save cols as vars\n",
    "x = data1[:, 0]\n",
    "y = data1[:, 1]\n",
    "std_dev = data1[:, 2]\n",
    "\n",
    "# Define the polynomial\n",
    "def polynomial_eq(params, x):\n",
    "    a, b, c = params\n",
    "    return a + b*x + c*x**2\n",
    "\n",
    "#Define function for MLE\n",
    "def mle_function(params, x, y, std_dev):\n",
    "    residuals = y - polynomial_eq(params, x)\n",
    "    return np.sum((residuals / std_dev)**2)\n",
    "\n",
    "#Guess a, b, c\n",
    "initial_guess = [0, 0, 0]\n",
    "\n",
    "#Optimize\n",
    "result = minimize(mle_function, initial_guess, args=(x, y, std_dev))\n",
    "\n",
    "#store params\n",
    "a_mle, b_mle, c_mle = result.x\n",
    "\n",
    "print(f\"A: {a_mle}, B: {b_mle}, C: {c_mle}\")\n",
    "print('\\n\\n')\n",
    "\n",
    "\n",
    "fig, ax = plt.subplots()\n",
    "\n",
    "#generate x-values to plot\n",
    "x_seq = np.linspace(min(x), max(x), 100)\n",
    "\n",
    "#include original error bars\n",
    "ax.errorbar(x, y, yerr=std_dev, fmt='o')\n",
    "\n",
    "ax.plot(x_seq, polynomial_eq(result.x, x_seq), label='Best fit')\n",
    "\n",
    "ax.legend()\n",
    "\n",
    "\n",
    "plt.show()"
   ]
  }
 ],
 "metadata": {
  "kernelspec": {
   "display_name": "Python 3 (ipykernel)",
   "language": "python",
   "name": "python3"
  },
  "language_info": {
   "codemirror_mode": {
    "name": "ipython",
    "version": 3
   },
   "file_extension": ".py",
   "mimetype": "text/x-python",
   "name": "python",
   "nbconvert_exporter": "python",
   "pygments_lexer": "ipython3",
   "version": "3.9.12"
  }
 },
 "nbformat": 4,
 "nbformat_minor": 5
}
